{
  "cells": [
    {
      "cell_type": "code",
      "execution_count": null,
      "metadata": {
        "id": "TsplW50iF7Sb"
      },
      "outputs": [],
      "source": [
        "import pandas as pd\n",
        "import numpy as np\n"
      ]
    },
    {
      "cell_type": "code",
      "execution_count": null,
      "metadata": {
        "colab": {
          "base_uri": "https://localhost:8080/"
        },
        "id": "0jRjh_6CIQOt",
        "outputId": "eda67e67-b505-44aa-c25c-d90f38b5c3cc"
      },
      "outputs": [
        {
          "output_type": "stream",
          "name": "stdout",
          "text": [
            "Mounted at /content/drive\n"
          ]
        }
      ],
      "source": [
        "from google.colab import drive\n",
        "drive.mount('/content/drive')\n",
        "\n",
        "# Load the dataset\n",
        "df = pd.read_csv('/content/drive/My Drive/ecommerce.csv')"
      ]
    },
    {
      "cell_type": "code",
      "execution_count": null,
      "metadata": {
        "id": "3pWDX4LhI200"
      },
      "outputs": [],
      "source": [
        "# Step 1: Data Cleaning and Transformation\n",
        "\n",
        "# Removing duplicates (if any)\n",
        "df.drop_duplicates(inplace=True)"
      ]
    },
    {
      "cell_type": "code",
      "execution_count": null,
      "metadata": {
        "id": "FnB6tFJxJOyk"
      },
      "outputs": [],
      "source": [
        "# Handling missing values\n",
        "# Assuming 'total_order_amount' is a numeric column and we want to fill missing values with the mean\n",
        "df['Total Purchase Amount'].fillna(df['Total Purchase Amount'].mean(), inplace=True)"
      ]
    },
    {
      "cell_type": "code",
      "execution_count": null,
      "metadata": {
        "id": "9SKjxZMZJkDm"
      },
      "outputs": [],
      "source": [
        "# Convert 'order_date' to datetime format\n",
        "df['Purchase Date'] = pd.to_datetime(df['Purchase Date'])"
      ]
    },
    {
      "cell_type": "code",
      "execution_count": null,
      "metadata": {
        "colab": {
          "base_uri": "https://localhost:8080/"
        },
        "id": "7CH5poJ-Qheh",
        "outputId": "1681ccee-cc44-40f4-9891-b6f940bd217c"
      },
      "outputs": [
        {
          "output_type": "stream",
          "name": "stdout",
          "text": [
            "Q1: 1477.0\n",
            "Q3: 3974.0\n",
            "IQR (without outliers): 2497.0\n"
          ]
        }
      ],
      "source": [
        "from scipy.stats import zscore\n",
        "\n",
        "# Assuming 'df' is your DataFrame and 'column_name' is the column for which you want to calculate the IQR\n",
        "column_name = 'Total Purchase Amount'\n",
        "\n",
        "# Calculate Z-scores for the specified column\n",
        "z_scores = zscore(df[column_name])\n",
        "\n",
        "# Set a threshold for identifying outliers (e.g., 3 standard deviations)\n",
        "threshold = 3\n",
        "outliers_mask = np.abs(z_scores) > threshold\n",
        "\n",
        "# Identify outliers and non-outliers\n",
        "outliers = df[outliers_mask]\n",
        "non_outliers = df[~outliers_mask]\n",
        "\n",
        "# Calculate the IQR for the non-outlier data\n",
        "q1 = non_outliers[column_name].quantile(0.25)\n",
        "q3 = non_outliers[column_name].quantile(0.75)\n",
        "iqr = q3 - q1\n",
        "\n",
        "print(f'Q1: {q1}')\n",
        "print(f'Q3: {q3}')\n",
        "print(f'IQR (without outliers): {iqr}')\n"
      ]
    },
    {
      "cell_type": "code",
      "execution_count": null,
      "metadata": {
        "id": "0ZraO3lbJtus"
      },
      "outputs": [],
      "source": [
        "# Example of removing outliers in 'total_order_amount' using Z-score\n",
        "from scipy import stats\n",
        "z_scores = np.abs(stats.zscore(df['Total Purchase Amount']))\n",
        "df = df[(z_scores < 3)]  # Remove rows with outliers (consider adjusting the threshold as needed)"
      ]
    },
    {
      "cell_type": "code",
      "execution_count": null,
      "metadata": {
        "id": "hjJfJXpVJ1qO"
      },
      "outputs": [],
      "source": [
        "# Transforming categorical columns into numerical representations (e.g., one-hot encoding)\n",
        "# Assuming 'payment_method' is a categorical column\n",
        "df = pd.get_dummies(df, columns=['Payment Method'], prefix='Payment Method')"
      ]
    },
    {
      "cell_type": "code",
      "execution_count": null,
      "metadata": {
        "id": "Cb0KmIcLKGfM"
      },
      "outputs": [],
      "source": [
        "# Creating a new feature (e.g., 'total_items_purchased')\n",
        "# You can combine information from multiple columns to create new features\n",
        "df['Product Category'] = df['Quantity'] * df['Product Price']"
      ]
    },
    {
      "cell_type": "code",
      "execution_count": null,
      "metadata": {
        "id": "woqNsKUHKaHw"
      },
      "outputs": [],
      "source": [
        "# Step 2: Calculation of RFM variables\n",
        "# Recency\n",
        "df['Purchase Date'] = pd.to_datetime(df['Purchase Date'])\n",
        "df['recency'] = (pd.to_datetime('today') - df['Purchase Date']).dt.days"
      ]
    },
    {
      "cell_type": "code",
      "execution_count": null,
      "metadata": {
        "id": "XGuwjEKXKliT"
      },
      "outputs": [],
      "source": [
        "# Frequency (Number of Orders per Customer)\n",
        "df['frequency'] = df.groupby('Customer ID')['Purchase Date'].transform('count')"
      ]
    },
    {
      "cell_type": "code",
      "execution_count": null,
      "metadata": {
        "id": "CgpdIm0ALOX_"
      },
      "outputs": [],
      "source": [
        "# Monetary\n",
        "df['monetary'] = df.groupby('Customer ID')['Total Purchase Amount'].transform('sum')"
      ]
    },
    {
      "cell_type": "code",
      "execution_count": null,
      "metadata": {
        "id": "6_v_gIg_Lcw2"
      },
      "outputs": [],
      "source": [
        "# Step 3: Segmenting RFM variables into quantiles\n",
        "df['recency_score'] = pd.qcut(df['recency'], q=[0, 0.25, 0.5, 0.75, 1], labels=[4, 3, 2, 1])\n",
        "df['frequency_score'] = pd.qcut(df['frequency'], q=[0, 0.25, 0.5, 0.75, 1], labels=[1, 2, 3, 4])\n",
        "df['monetary_score'] = pd.qcut(df['monetary'], q=[0, 0.25, 0.5, 0.75, 1], labels=[1, 2, 3, 4])"
      ]
    },
    {
      "cell_type": "code",
      "execution_count": null,
      "metadata": {
        "id": "mLrCE-QhMQyH"
      },
      "outputs": [],
      "source": [
        "# Step 5: Calculating Total Credit Score\n",
        "df['total_credit_score'] = df['recency_score'].astype(int) + df['frequency_score'].astype(int) + \\\n",
        "                           df['monetary_score'].astype(int)"
      ]
    },
    {
      "cell_type": "code",
      "execution_count": null,
      "metadata": {
        "id": "mIGmGH5_Q6v6"
      },
      "outputs": [],
      "source": [
        "# Final classification\n",
        "def classify_customer(total_credit_score):\n",
        "    if total_credit_score <= 3:\n",
        "        return 'Worst customer'\n",
        "    elif total_credit_score <= 6:\n",
        "        return 'Average customer'\n",
        "    elif total_credit_score <= 9:\n",
        "        return 'Good customer'\n",
        "    else:\n",
        "        return 'Excellent customer'\n"
      ]
    },
    {
      "cell_type": "code",
      "execution_count": null,
      "metadata": {
        "id": "RAPEf0SVSQ3_"
      },
      "outputs": [],
      "source": [
        "df['Category'] = df['total_credit_score'].apply(classify_customer)\n"
      ]
    },
    {
      "cell_type": "code",
      "execution_count": null,
      "metadata": {
        "id": "gYBgkfDBN3S-"
      },
      "outputs": [],
      "source": [
        "df.to_csv('output.csv', index=False)"
      ]
    },
    {
      "cell_type": "code",
      "execution_count": null,
      "metadata": {
        "colab": {
          "base_uri": "https://localhost:8080/",
          "height": 463
        },
        "id": "awiECKusONa0",
        "outputId": "91c0252f-0d1f-4d5e-f125-66aa578bb143"
      },
      "outputs": [
        {
          "output_type": "execute_result",
          "data": {
            "text/plain": [
              "   Customer ID       Purchase Date  Product Category  Product Price  Quantity  \\\n",
              "0        46251 2020-09-08 09:38:32                36             12         3   \n",
              "1        46251 2022-03-05 12:56:35              1872            468         4   \n",
              "2        46251 2022-05-23 18:18:01               576            288         2   \n",
              "3        46251 2020-11-12 13:13:29               196            196         1   \n",
              "4        13593 2020-11-27 17:55:11               449            449         1   \n",
              "\n",
              "   Total Purchase Amount  Customer Age  Returns        Customer Name  Age  \\\n",
              "0                    740            37      0.0  Christine Hernandez   37   \n",
              "1                   2739            37      0.0  Christine Hernandez   37   \n",
              "2                   3196            37      0.0  Christine Hernandez   37   \n",
              "3                   3509            37      0.0  Christine Hernandez   37   \n",
              "4                   3452            49      0.0          James Grant   49   \n",
              "\n",
              "   ... Payment Method_Crypto  Payment Method_PayPal  recency  frequency  \\\n",
              "0  ...                     0                      0     1218          4   \n",
              "1  ...                     0                      1      675          4   \n",
              "2  ...                     0                      1      596          4   \n",
              "3  ...                     0                      1     1153          4   \n",
              "4  ...                     0                      0     1138          5   \n",
              "\n",
              "   monetary  recency_score  frequency_score  monetary_score  \\\n",
              "0     10184              1                1               1   \n",
              "1     10184              3                1               1   \n",
              "2     10184              3                1               1   \n",
              "3     10184              1                1               1   \n",
              "4     12223              1                2               2   \n",
              "\n",
              "   total_credit_score          Category  \n",
              "0                   3    Worst customer  \n",
              "1                   5  Average customer  \n",
              "2                   5  Average customer  \n",
              "3                   3    Worst customer  \n",
              "4                   5  Average customer  \n",
              "\n",
              "[5 rows x 24 columns]"
            ],
            "text/html": [
              "\n",
              "  <div id=\"df-85de63a1-079e-4d83-9e89-cffb574d4a86\" class=\"colab-df-container\">\n",
              "    <div>\n",
              "<style scoped>\n",
              "    .dataframe tbody tr th:only-of-type {\n",
              "        vertical-align: middle;\n",
              "    }\n",
              "\n",
              "    .dataframe tbody tr th {\n",
              "        vertical-align: top;\n",
              "    }\n",
              "\n",
              "    .dataframe thead th {\n",
              "        text-align: right;\n",
              "    }\n",
              "</style>\n",
              "<table border=\"1\" class=\"dataframe\">\n",
              "  <thead>\n",
              "    <tr style=\"text-align: right;\">\n",
              "      <th></th>\n",
              "      <th>Customer ID</th>\n",
              "      <th>Purchase Date</th>\n",
              "      <th>Product Category</th>\n",
              "      <th>Product Price</th>\n",
              "      <th>Quantity</th>\n",
              "      <th>Total Purchase Amount</th>\n",
              "      <th>Customer Age</th>\n",
              "      <th>Returns</th>\n",
              "      <th>Customer Name</th>\n",
              "      <th>Age</th>\n",
              "      <th>...</th>\n",
              "      <th>Payment Method_Crypto</th>\n",
              "      <th>Payment Method_PayPal</th>\n",
              "      <th>recency</th>\n",
              "      <th>frequency</th>\n",
              "      <th>monetary</th>\n",
              "      <th>recency_score</th>\n",
              "      <th>frequency_score</th>\n",
              "      <th>monetary_score</th>\n",
              "      <th>total_credit_score</th>\n",
              "      <th>Category</th>\n",
              "    </tr>\n",
              "  </thead>\n",
              "  <tbody>\n",
              "    <tr>\n",
              "      <th>0</th>\n",
              "      <td>46251</td>\n",
              "      <td>2020-09-08 09:38:32</td>\n",
              "      <td>36</td>\n",
              "      <td>12</td>\n",
              "      <td>3</td>\n",
              "      <td>740</td>\n",
              "      <td>37</td>\n",
              "      <td>0.0</td>\n",
              "      <td>Christine Hernandez</td>\n",
              "      <td>37</td>\n",
              "      <td>...</td>\n",
              "      <td>0</td>\n",
              "      <td>0</td>\n",
              "      <td>1218</td>\n",
              "      <td>4</td>\n",
              "      <td>10184</td>\n",
              "      <td>1</td>\n",
              "      <td>1</td>\n",
              "      <td>1</td>\n",
              "      <td>3</td>\n",
              "      <td>Worst customer</td>\n",
              "    </tr>\n",
              "    <tr>\n",
              "      <th>1</th>\n",
              "      <td>46251</td>\n",
              "      <td>2022-03-05 12:56:35</td>\n",
              "      <td>1872</td>\n",
              "      <td>468</td>\n",
              "      <td>4</td>\n",
              "      <td>2739</td>\n",
              "      <td>37</td>\n",
              "      <td>0.0</td>\n",
              "      <td>Christine Hernandez</td>\n",
              "      <td>37</td>\n",
              "      <td>...</td>\n",
              "      <td>0</td>\n",
              "      <td>1</td>\n",
              "      <td>675</td>\n",
              "      <td>4</td>\n",
              "      <td>10184</td>\n",
              "      <td>3</td>\n",
              "      <td>1</td>\n",
              "      <td>1</td>\n",
              "      <td>5</td>\n",
              "      <td>Average customer</td>\n",
              "    </tr>\n",
              "    <tr>\n",
              "      <th>2</th>\n",
              "      <td>46251</td>\n",
              "      <td>2022-05-23 18:18:01</td>\n",
              "      <td>576</td>\n",
              "      <td>288</td>\n",
              "      <td>2</td>\n",
              "      <td>3196</td>\n",
              "      <td>37</td>\n",
              "      <td>0.0</td>\n",
              "      <td>Christine Hernandez</td>\n",
              "      <td>37</td>\n",
              "      <td>...</td>\n",
              "      <td>0</td>\n",
              "      <td>1</td>\n",
              "      <td>596</td>\n",
              "      <td>4</td>\n",
              "      <td>10184</td>\n",
              "      <td>3</td>\n",
              "      <td>1</td>\n",
              "      <td>1</td>\n",
              "      <td>5</td>\n",
              "      <td>Average customer</td>\n",
              "    </tr>\n",
              "    <tr>\n",
              "      <th>3</th>\n",
              "      <td>46251</td>\n",
              "      <td>2020-11-12 13:13:29</td>\n",
              "      <td>196</td>\n",
              "      <td>196</td>\n",
              "      <td>1</td>\n",
              "      <td>3509</td>\n",
              "      <td>37</td>\n",
              "      <td>0.0</td>\n",
              "      <td>Christine Hernandez</td>\n",
              "      <td>37</td>\n",
              "      <td>...</td>\n",
              "      <td>0</td>\n",
              "      <td>1</td>\n",
              "      <td>1153</td>\n",
              "      <td>4</td>\n",
              "      <td>10184</td>\n",
              "      <td>1</td>\n",
              "      <td>1</td>\n",
              "      <td>1</td>\n",
              "      <td>3</td>\n",
              "      <td>Worst customer</td>\n",
              "    </tr>\n",
              "    <tr>\n",
              "      <th>4</th>\n",
              "      <td>13593</td>\n",
              "      <td>2020-11-27 17:55:11</td>\n",
              "      <td>449</td>\n",
              "      <td>449</td>\n",
              "      <td>1</td>\n",
              "      <td>3452</td>\n",
              "      <td>49</td>\n",
              "      <td>0.0</td>\n",
              "      <td>James Grant</td>\n",
              "      <td>49</td>\n",
              "      <td>...</td>\n",
              "      <td>0</td>\n",
              "      <td>0</td>\n",
              "      <td>1138</td>\n",
              "      <td>5</td>\n",
              "      <td>12223</td>\n",
              "      <td>1</td>\n",
              "      <td>2</td>\n",
              "      <td>2</td>\n",
              "      <td>5</td>\n",
              "      <td>Average customer</td>\n",
              "    </tr>\n",
              "  </tbody>\n",
              "</table>\n",
              "<p>5 rows × 24 columns</p>\n",
              "</div>\n",
              "    <div class=\"colab-df-buttons\">\n",
              "\n",
              "  <div class=\"colab-df-container\">\n",
              "    <button class=\"colab-df-convert\" onclick=\"convertToInteractive('df-85de63a1-079e-4d83-9e89-cffb574d4a86')\"\n",
              "            title=\"Convert this dataframe to an interactive table.\"\n",
              "            style=\"display:none;\">\n",
              "\n",
              "  <svg xmlns=\"http://www.w3.org/2000/svg\" height=\"24px\" viewBox=\"0 -960 960 960\">\n",
              "    <path d=\"M120-120v-720h720v720H120Zm60-500h600v-160H180v160Zm220 220h160v-160H400v160Zm0 220h160v-160H400v160ZM180-400h160v-160H180v160Zm440 0h160v-160H620v160ZM180-180h160v-160H180v160Zm440 0h160v-160H620v160Z\"/>\n",
              "  </svg>\n",
              "    </button>\n",
              "\n",
              "  <style>\n",
              "    .colab-df-container {\n",
              "      display:flex;\n",
              "      gap: 12px;\n",
              "    }\n",
              "\n",
              "    .colab-df-convert {\n",
              "      background-color: #E8F0FE;\n",
              "      border: none;\n",
              "      border-radius: 50%;\n",
              "      cursor: pointer;\n",
              "      display: none;\n",
              "      fill: #1967D2;\n",
              "      height: 32px;\n",
              "      padding: 0 0 0 0;\n",
              "      width: 32px;\n",
              "    }\n",
              "\n",
              "    .colab-df-convert:hover {\n",
              "      background-color: #E2EBFA;\n",
              "      box-shadow: 0px 1px 2px rgba(60, 64, 67, 0.3), 0px 1px 3px 1px rgba(60, 64, 67, 0.15);\n",
              "      fill: #174EA6;\n",
              "    }\n",
              "\n",
              "    .colab-df-buttons div {\n",
              "      margin-bottom: 4px;\n",
              "    }\n",
              "\n",
              "    [theme=dark] .colab-df-convert {\n",
              "      background-color: #3B4455;\n",
              "      fill: #D2E3FC;\n",
              "    }\n",
              "\n",
              "    [theme=dark] .colab-df-convert:hover {\n",
              "      background-color: #434B5C;\n",
              "      box-shadow: 0px 1px 3px 1px rgba(0, 0, 0, 0.15);\n",
              "      filter: drop-shadow(0px 1px 2px rgba(0, 0, 0, 0.3));\n",
              "      fill: #FFFFFF;\n",
              "    }\n",
              "  </style>\n",
              "\n",
              "    <script>\n",
              "      const buttonEl =\n",
              "        document.querySelector('#df-85de63a1-079e-4d83-9e89-cffb574d4a86 button.colab-df-convert');\n",
              "      buttonEl.style.display =\n",
              "        google.colab.kernel.accessAllowed ? 'block' : 'none';\n",
              "\n",
              "      async function convertToInteractive(key) {\n",
              "        const element = document.querySelector('#df-85de63a1-079e-4d83-9e89-cffb574d4a86');\n",
              "        const dataTable =\n",
              "          await google.colab.kernel.invokeFunction('convertToInteractive',\n",
              "                                                    [key], {});\n",
              "        if (!dataTable) return;\n",
              "\n",
              "        const docLinkHtml = 'Like what you see? Visit the ' +\n",
              "          '<a target=\"_blank\" href=https://colab.research.google.com/notebooks/data_table.ipynb>data table notebook</a>'\n",
              "          + ' to learn more about interactive tables.';\n",
              "        element.innerHTML = '';\n",
              "        dataTable['output_type'] = 'display_data';\n",
              "        await google.colab.output.renderOutput(dataTable, element);\n",
              "        const docLink = document.createElement('div');\n",
              "        docLink.innerHTML = docLinkHtml;\n",
              "        element.appendChild(docLink);\n",
              "      }\n",
              "    </script>\n",
              "  </div>\n",
              "\n",
              "\n",
              "<div id=\"df-0f4380b2-7c7b-4cbe-bc62-94e3c7b646be\">\n",
              "  <button class=\"colab-df-quickchart\" onclick=\"quickchart('df-0f4380b2-7c7b-4cbe-bc62-94e3c7b646be')\"\n",
              "            title=\"Suggest charts\"\n",
              "            style=\"display:none;\">\n",
              "\n",
              "<svg xmlns=\"http://www.w3.org/2000/svg\" height=\"24px\"viewBox=\"0 0 24 24\"\n",
              "     width=\"24px\">\n",
              "    <g>\n",
              "        <path d=\"M19 3H5c-1.1 0-2 .9-2 2v14c0 1.1.9 2 2 2h14c1.1 0 2-.9 2-2V5c0-1.1-.9-2-2-2zM9 17H7v-7h2v7zm4 0h-2V7h2v10zm4 0h-2v-4h2v4z\"/>\n",
              "    </g>\n",
              "</svg>\n",
              "  </button>\n",
              "\n",
              "<style>\n",
              "  .colab-df-quickchart {\n",
              "      --bg-color: #E8F0FE;\n",
              "      --fill-color: #1967D2;\n",
              "      --hover-bg-color: #E2EBFA;\n",
              "      --hover-fill-color: #174EA6;\n",
              "      --disabled-fill-color: #AAA;\n",
              "      --disabled-bg-color: #DDD;\n",
              "  }\n",
              "\n",
              "  [theme=dark] .colab-df-quickchart {\n",
              "      --bg-color: #3B4455;\n",
              "      --fill-color: #D2E3FC;\n",
              "      --hover-bg-color: #434B5C;\n",
              "      --hover-fill-color: #FFFFFF;\n",
              "      --disabled-bg-color: #3B4455;\n",
              "      --disabled-fill-color: #666;\n",
              "  }\n",
              "\n",
              "  .colab-df-quickchart {\n",
              "    background-color: var(--bg-color);\n",
              "    border: none;\n",
              "    border-radius: 50%;\n",
              "    cursor: pointer;\n",
              "    display: none;\n",
              "    fill: var(--fill-color);\n",
              "    height: 32px;\n",
              "    padding: 0;\n",
              "    width: 32px;\n",
              "  }\n",
              "\n",
              "  .colab-df-quickchart:hover {\n",
              "    background-color: var(--hover-bg-color);\n",
              "    box-shadow: 0 1px 2px rgba(60, 64, 67, 0.3), 0 1px 3px 1px rgba(60, 64, 67, 0.15);\n",
              "    fill: var(--button-hover-fill-color);\n",
              "  }\n",
              "\n",
              "  .colab-df-quickchart-complete:disabled,\n",
              "  .colab-df-quickchart-complete:disabled:hover {\n",
              "    background-color: var(--disabled-bg-color);\n",
              "    fill: var(--disabled-fill-color);\n",
              "    box-shadow: none;\n",
              "  }\n",
              "\n",
              "  .colab-df-spinner {\n",
              "    border: 2px solid var(--fill-color);\n",
              "    border-color: transparent;\n",
              "    border-bottom-color: var(--fill-color);\n",
              "    animation:\n",
              "      spin 1s steps(1) infinite;\n",
              "  }\n",
              "\n",
              "  @keyframes spin {\n",
              "    0% {\n",
              "      border-color: transparent;\n",
              "      border-bottom-color: var(--fill-color);\n",
              "      border-left-color: var(--fill-color);\n",
              "    }\n",
              "    20% {\n",
              "      border-color: transparent;\n",
              "      border-left-color: var(--fill-color);\n",
              "      border-top-color: var(--fill-color);\n",
              "    }\n",
              "    30% {\n",
              "      border-color: transparent;\n",
              "      border-left-color: var(--fill-color);\n",
              "      border-top-color: var(--fill-color);\n",
              "      border-right-color: var(--fill-color);\n",
              "    }\n",
              "    40% {\n",
              "      border-color: transparent;\n",
              "      border-right-color: var(--fill-color);\n",
              "      border-top-color: var(--fill-color);\n",
              "    }\n",
              "    60% {\n",
              "      border-color: transparent;\n",
              "      border-right-color: var(--fill-color);\n",
              "    }\n",
              "    80% {\n",
              "      border-color: transparent;\n",
              "      border-right-color: var(--fill-color);\n",
              "      border-bottom-color: var(--fill-color);\n",
              "    }\n",
              "    90% {\n",
              "      border-color: transparent;\n",
              "      border-bottom-color: var(--fill-color);\n",
              "    }\n",
              "  }\n",
              "</style>\n",
              "\n",
              "  <script>\n",
              "    async function quickchart(key) {\n",
              "      const quickchartButtonEl =\n",
              "        document.querySelector('#' + key + ' button');\n",
              "      quickchartButtonEl.disabled = true;  // To prevent multiple clicks.\n",
              "      quickchartButtonEl.classList.add('colab-df-spinner');\n",
              "      try {\n",
              "        const charts = await google.colab.kernel.invokeFunction(\n",
              "            'suggestCharts', [key], {});\n",
              "      } catch (error) {\n",
              "        console.error('Error during call to suggestCharts:', error);\n",
              "      }\n",
              "      quickchartButtonEl.classList.remove('colab-df-spinner');\n",
              "      quickchartButtonEl.classList.add('colab-df-quickchart-complete');\n",
              "    }\n",
              "    (() => {\n",
              "      let quickchartButtonEl =\n",
              "        document.querySelector('#df-0f4380b2-7c7b-4cbe-bc62-94e3c7b646be button');\n",
              "      quickchartButtonEl.style.display =\n",
              "        google.colab.kernel.accessAllowed ? 'block' : 'none';\n",
              "    })();\n",
              "  </script>\n",
              "</div>\n",
              "\n",
              "    </div>\n",
              "  </div>\n"
            ]
          },
          "metadata": {},
          "execution_count": 18
        }
      ],
      "source": [
        "df.head()"
      ]
    },
    {
      "cell_type": "code",
      "execution_count": null,
      "metadata": {
        "id": "zavi8baokbQR"
      },
      "outputs": [],
      "source": [
        "#Classification\n",
        "import numpy as np\n",
        "import pandas as pd\n",
        "import math\n",
        "import time\n",
        "import seaborn as sns\n",
        "import matplotlib.pyplot as plt\n",
        "from scipy.stats import entropy\n",
        "from sklearn.tree import DecisionTreeClassifier\n",
        "from sklearn.model_selection import train_test_split\n",
        "from sklearn import tree\n",
        "from sklearn.model_selection import train_test_split\n",
        "from sklearn.preprocessing import MinMaxScaler\n",
        "from sklearn.neighbors import KNeighborsClassifier\n",
        "from sklearn.neural_network import MLPClassifier\n",
        "from collections import Counter\n",
        "from sklearn.linear_model import LogisticRegression\n",
        "from sklearn.tree import DecisionTreeClassifier\n",
        "from sklearn.ensemble import RandomForestClassifier\n",
        "from xgboost import XGBClassifier\n",
        "from sklearn.pipeline import Pipeline\n",
        "from sklearn.model_selection import cross_val_score, KFold, train_test_split\n",
        "from sklearn.preprocessing import StandardScaler, MinMaxScaler, Normalizer\n",
        "from sklearn.metrics import confusion_matrix, f1_score, accuracy_score, roc_auc_score\n",
        "from sklearn.feature_selection import SelectKBest\n",
        "from sklearn.base import BaseEstimator, ClassifierMixin\n",
        "from sklearn.model_selection import GridSearchCV\n",
        "from sklearn.preprocessing import LabelEncoder"
      ]
    },
    {
      "cell_type": "code",
      "execution_count": null,
      "metadata": {
        "colab": {
          "base_uri": "https://localhost:8080/"
        },
        "id": "ZHz2UaQTkbLu",
        "outputId": "1b6e6b38-8b85-4a6f-8fb2-f86f9300c6f5"
      },
      "outputs": [
        {
          "output_type": "stream",
          "name": "stderr",
          "text": [
            "<ipython-input-20-bf934754a5b1>:1: FutureWarning: DataFrame.mean and DataFrame.median with numeric_only=None will include datetime64 and datetime64tz columns in a future version.\n",
            "  df.fillna(df.mean(), inplace=True)\n",
            "<ipython-input-20-bf934754a5b1>:1: FutureWarning: The default value of numeric_only in DataFrame.mean is deprecated. In a future version, it will default to False. In addition, specifying 'numeric_only=None' is deprecated. Select only valid columns or specify the value of numeric_only to silence this warning.\n",
            "  df.fillna(df.mean(), inplace=True)\n"
          ]
        }
      ],
      "source": [
        "df.fillna(df.mean(), inplace=True)"
      ]
    },
    {
      "cell_type": "code",
      "execution_count": null,
      "metadata": {
        "id": "6435VgYXfHb9"
      },
      "outputs": [],
      "source": [
        "# Splitting into test and train\n",
        "X = df.drop(['Category', 'Purchase Date', 'Customer Name', 'Gender', 'Churn'], axis=1)\n",
        "y = df['Category']\n",
        "X_train, X_test, y_train, y_test = train_test_split(X, y, test_size=0.3, random_state=42)"
      ]
    },
    {
      "cell_type": "code",
      "execution_count": null,
      "metadata": {
        "id": "LtRB0OqTg2ts",
        "colab": {
          "base_uri": "https://localhost:8080/",
          "height": 772
        },
        "outputId": "c8b36ba2-2c85-4605-f575-cb4b66dabd4d"
      },
      "outputs": [
        {
          "output_type": "display_data",
          "data": {
            "text/plain": [
              "<Figure size 600x400 with 1 Axes>"
            ],
            "image/png": "[encoded data removed]"
          },
          "metadata": {}
        },
        {
          "output_type": "stream",
          "name": "stdout",
          "text": [
            "\n",
            "Classification Report:\n",
            "                    precision    recall  f1-score   support\n",
            "\n",
            "  Average customer       0.81      0.84      0.82     26603\n",
            "Excellent customer       0.79      0.79      0.79     15623\n",
            "     Good customer       0.77      0.77      0.77     29322\n",
            "    Worst customer       0.68      0.41      0.51      3452\n",
            "\n",
            "          accuracy                           0.78     75000\n",
            "         macro avg       0.76      0.70      0.72     75000\n",
            "      weighted avg       0.78      0.78      0.78     75000\n",
            "\n",
            "Results:\n",
            "        Metric     Value\n",
            "0     Accuracy  0.784520\n",
            "1    Precision  0.782327\n",
            "2       Recall  0.784520\n",
            "3     F1 Score  0.781834\n",
            "4  Cohen Kappa  0.678391\n"
          ]
        }
      ],
      "source": [
        "from sklearn.metrics import precision_score\n",
        "from sklearn.metrics import recall_score\n",
        "from sklearn.metrics import cohen_kappa_score\n",
        "from sklearn.metrics import classification_report\n",
        "# Build and evaluate KNN model\n",
        "knn = KNeighborsClassifier()\n",
        "knn.fit(X_train, y_train)\n",
        "y_pred = knn.predict(X_test)\n",
        "\n",
        "# Evaluate the model\n",
        "accuracy = accuracy_score(y_test, y_pred)\n",
        "precision = precision_score(y_test, y_pred, average='weighted')\n",
        "recall = recall_score(y_test, y_pred, average='weighted')\n",
        "f1 = f1_score(y_test, y_pred, average='weighted')\n",
        "kappa = cohen_kappa_score(y_test, y_pred)\n",
        "\n",
        "# Confusion Matrix\n",
        "conf_matrix = confusion_matrix(y_test, y_pred)\n",
        "\n",
        "# Visualize Confusion Matrix\n",
        "sns.set(font_scale=1.2)\n",
        "plt.figure(figsize=(6, 4))\n",
        "sns.heatmap(conf_matrix, annot=True, fmt=\"d\", cmap=\"Blues\", linewidths=.5, cbar=False, annot_kws={\"size\": 14})\n",
        "plt.xlabel('Predicted Labels', fontsize=14)\n",
        "plt.ylabel('True Labels', fontsize=14)\n",
        "plt.title('Confusion Matrix', fontsize=16)\n",
        "plt.show()\n",
        "\n",
        "# Classification Report\n",
        "class_report = classification_report(y_test, y_pred)\n",
        "\n",
        "# Display the results\n",
        "results = pd.DataFrame({\n",
        "    'Metric': ['Accuracy', 'Precision', 'Recall', 'F1 Score', 'Cohen Kappa'],\n",
        "    'Value': [accuracy, precision, recall, f1, kappa]\n",
        "})\n",
        "\n",
        "print(\"\\nClassification Report:\")\n",
        "print(class_report)\n",
        "\n",
        "print(\"Results:\")\n",
        "print(results)"
      ]
    },
    {
      "cell_type": "code",
      "execution_count": null,
      "metadata": {
        "id": "ndrZnWkuin-H",
        "colab": {
          "base_uri": "https://localhost:8080/",
          "height": 772
        },
        "outputId": "a0ed0187-93a9-4348-8c57-86b731c6ade4"
      },
      "outputs": [
        {
          "output_type": "display_data",
          "data": {
            "text/plain": [
              "<Figure size 600x400 with 1 Axes>"
            ],
            "image/png": "[encoded data removed]"
          },
          "metadata": {}
        },
        {
          "output_type": "stream",
          "name": "stdout",
          "text": [
            "\n",
            "Classification Report:\n",
            "                    precision    recall  f1-score   support\n",
            "\n",
            "  Average customer       0.90      0.93      0.92     26603\n",
            "Excellent customer       0.94      0.97      0.96     15623\n",
            "     Good customer       0.92      0.87      0.90     29322\n",
            "    Worst customer       1.00      1.00      1.00      3452\n",
            "\n",
            "          accuracy                           0.92     75000\n",
            "         macro avg       0.94      0.94      0.94     75000\n",
            "      weighted avg       0.92      0.92      0.92     75000\n",
            "\n",
            "Results:\n",
            "        Metric     Value\n",
            "0     Accuracy  0.921307\n",
            "1    Precision  0.921489\n",
            "2       Recall  0.921307\n",
            "3     F1 Score  0.920971\n",
            "4  Cohen Kappa  0.883852\n"
          ]
        }
      ],
      "source": [
        "from sklearn.naive_bayes import GaussianNB\n",
        "# Build and evaluate Naive Bayes model\n",
        "nb = GaussianNB()\n",
        "nb.fit(X_train, y_train)\n",
        "y_pred = nb.predict(X_test)\n",
        "\n",
        "# Evaluate the model\n",
        "accuracy = accuracy_score(y_test, y_pred)\n",
        "precision = precision_score(y_test, y_pred, average='weighted')\n",
        "recall = recall_score(y_test, y_pred, average='weighted')\n",
        "f1 = f1_score(y_test, y_pred, average='weighted')\n",
        "kappa = cohen_kappa_score(y_test, y_pred)\n",
        "\n",
        "# Confusion Matrix\n",
        "conf_matrix = confusion_matrix(y_test, y_pred)\n",
        "\n",
        "# Visualize Confusion Matrix\n",
        "sns.set(font_scale=1.2)\n",
        "plt.figure(figsize=(6, 4))\n",
        "sns.heatmap(conf_matrix, annot=True, fmt=\"d\", cmap=\"Blues\", linewidths=.5, cbar=False, annot_kws={\"size\": 14})\n",
        "plt.xlabel('Predicted Labels', fontsize=14)\n",
        "plt.ylabel('True Labels', fontsize=14)\n",
        "plt.title('Confusion Matrix', fontsize=16)\n",
        "plt.show()\n",
        "\n",
        "# Classification Report\n",
        "class_report = classification_report(y_test, y_pred)\n",
        "\n",
        "# Display the results\n",
        "results = pd.DataFrame({\n",
        "    'Metric': ['Accuracy', 'Precision', 'Recall', 'F1 Score', 'Cohen Kappa'],\n",
        "    'Value': [accuracy, precision, recall, f1, kappa]\n",
        "})\n",
        "\n",
        "print(\"\\nClassification Report:\")\n",
        "print(class_report)\n",
        "\n",
        "print(\"Results:\")\n",
        "print(results)\n"
      ]
    },
    {
      "cell_type": "code",
      "execution_count": null,
      "metadata": {
        "colab": {
          "base_uri": "https://localhost:8080/",
          "height": 772
        },
        "id": "0xTShus3nJZB",
        "outputId": "aa6b9547-808e-46ab-cf1e-b9043075c3f8"
      },
      "outputs": [
        {
          "output_type": "display_data",
          "data": {
            "text/plain": [
              "<Figure size 600x400 with 1 Axes>"
            ],
            "image/png": "[encoded data removed]"
          },
          "metadata": {}
        },
        {
          "output_type": "stream",
          "name": "stdout",
          "text": [
            "\n",
            "Classification Report:\n",
            "                    precision    recall  f1-score   support\n",
            "\n",
            "  Average customer       1.00      1.00      1.00     26603\n",
            "Excellent customer       1.00      1.00      1.00     15623\n",
            "     Good customer       1.00      1.00      1.00     29322\n",
            "    Worst customer       1.00      1.00      1.00      3452\n",
            "\n",
            "          accuracy                           1.00     75000\n",
            "         macro avg       1.00      1.00      1.00     75000\n",
            "      weighted avg       1.00      1.00      1.00     75000\n",
            "\n",
            "Results:\n",
            "        Metric  Value\n",
            "0     Accuracy    1.0\n",
            "1    Precision    1.0\n",
            "2       Recall    1.0\n",
            "3     F1 Score    1.0\n",
            "4  Cohen Kappa    1.0\n"
          ]
        }
      ],
      "source": [
        "# Build and evaluate Decision Tree model\n",
        "decision_tree = DecisionTreeClassifier()\n",
        "decision_tree.fit(X_train, y_train)\n",
        "y_pred = decision_tree.predict(X_test)\n",
        "\n",
        "# Evaluate the model\n",
        "accuracy = accuracy_score(y_test, y_pred)\n",
        "precision = precision_score(y_test, y_pred, average='weighted')\n",
        "recall = recall_score(y_test, y_pred, average='weighted')\n",
        "f1 = f1_score(y_test, y_pred, average='weighted')\n",
        "kappa = cohen_kappa_score(y_test, y_pred)\n",
        "\n",
        "# Confusion Matrix\n",
        "conf_matrix = confusion_matrix(y_test, y_pred)\n",
        "\n",
        "# Visualize Confusion Matrix\n",
        "sns.set(font_scale=1.2)\n",
        "plt.figure(figsize=(6, 4))\n",
        "sns.heatmap(conf_matrix, annot=True, fmt=\"d\", cmap=\"Blues\", linewidths=.5, cbar=False, annot_kws={\"size\": 14})\n",
        "plt.xlabel('Predicted Labels', fontsize=14)\n",
        "plt.ylabel('True Labels', fontsize=14)\n",
        "plt.title('Confusion Matrix', fontsize=16)\n",
        "plt.show()\n",
        "\n",
        "# Classification Report\n",
        "class_report = classification_report(y_test, y_pred)\n",
        "\n",
        "# Display the results\n",
        "results = pd.DataFrame({\n",
        "    'Metric': ['Accuracy', 'Precision', 'Recall', 'F1 Score', 'Cohen Kappa'],\n",
        "    'Value': [accuracy, precision, recall, f1, kappa]\n",
        "})\n",
        "\n",
        "print(\"\\nClassification Report:\")\n",
        "print(class_report)\n",
        "\n",
        "print(\"Results:\")\n",
        "print(results)"
      ]
    },
    {
      "cell_type": "code",
      "execution_count": null,
      "metadata": {
        "colab": {
          "base_uri": "https://localhost:8080/",
          "height": 772
        },
        "id": "R1Xii3Dmodfy",
        "outputId": "3e502349-22c3-4ab6-eb09-be56edca78c6"
      },
      "outputs": [
        {
          "output_type": "display_data",
          "data": {
            "text/plain": [
              "<Figure size 600x400 with 1 Axes>"
            ],
            "image/png": "[encoded data removed]"
          },
          "metadata": {}
        },
        {
          "output_type": "stream",
          "name": "stdout",
          "text": [
            "\n",
            "Classification Report:\n",
            "                    precision    recall  f1-score   support\n",
            "\n",
            "  Average customer       1.00      1.00      1.00     26603\n",
            "Excellent customer       1.00      1.00      1.00     15623\n",
            "     Good customer       1.00      1.00      1.00     29322\n",
            "    Worst customer       1.00      1.00      1.00      3452\n",
            "\n",
            "          accuracy                           1.00     75000\n",
            "         macro avg       1.00      1.00      1.00     75000\n",
            "      weighted avg       1.00      1.00      1.00     75000\n",
            "\n",
            "Results:\n",
            "        Metric  Value\n",
            "0     Accuracy    1.0\n",
            "1    Precision    1.0\n",
            "2       Recall    1.0\n",
            "3     F1 Score    1.0\n",
            "4  Cohen Kappa    1.0\n"
          ]
        }
      ],
      "source": [
        "# Build and evaluate Random Forest model\n",
        "random_forest = RandomForestClassifier()\n",
        "random_forest.fit(X_train, y_train)\n",
        "y_pred = random_forest.predict(X_test)\n",
        "\n",
        "# Evaluate the model\n",
        "accuracy = accuracy_score(y_test, y_pred)\n",
        "precision = precision_score(y_test, y_pred, average='weighted')\n",
        "recall = recall_score(y_test, y_pred, average='weighted')\n",
        "f1 = f1_score(y_test, y_pred, average='weighted')\n",
        "kappa = cohen_kappa_score(y_test, y_pred)\n",
        "\n",
        "# Confusion Matrix\n",
        "conf_matrix = confusion_matrix(y_test, y_pred)\n",
        "\n",
        "# Visualize Confusion Matrix\n",
        "sns.set(font_scale=1.2)\n",
        "plt.figure(figsize=(6, 4))\n",
        "sns.heatmap(conf_matrix, annot=True, fmt=\"d\", cmap=\"Blues\", linewidths=.5, cbar=False, annot_kws={\"size\": 14})\n",
        "plt.xlabel('Predicted Labels', fontsize=14)\n",
        "plt.ylabel('True Labels', fontsize=14)\n",
        "plt.title('Confusion Matrix', fontsize=16)\n",
        "plt.show()\n",
        "\n",
        "# Classification Report\n",
        "class_report = classification_report(y_test, y_pred)\n",
        "\n",
        "# Display the results\n",
        "results = pd.DataFrame({\n",
        "    'Metric': ['Accuracy', 'Precision', 'Recall', 'F1 Score', 'Cohen Kappa'],\n",
        "    'Value': [accuracy, precision, recall, f1, kappa]\n",
        "})\n",
        "\n",
        "print(\"\\nClassification Report:\")\n",
        "print(class_report)\n",
        "\n",
        "print(\"Results:\")\n",
        "print(results)"
      ]
    },
    {
      "cell_type": "code",
      "execution_count": null,
      "metadata": {
        "colab": {
          "base_uri": "https://localhost:8080/",
          "height": 911
        },
        "id": "3_g8ptPQPAhZ",
        "outputId": "5efc7ee1-461d-4202-d585-5a6c887a2db0"
      },
      "outputs": [
        {
          "output_type": "stream",
          "name": "stderr",
          "text": [
            "/usr/local/lib/python3.10/dist-packages/sklearn/linear_model/_logistic.py:458: ConvergenceWarning: lbfgs failed to converge (status=1):\n",
            "STOP: TOTAL NO. of ITERATIONS REACHED LIMIT.\n",
            "\n",
            "Increase the number of iterations (max_iter) or scale the data as shown in:\n",
            "    https://scikit-learn.org/stable/modules/preprocessing.html\n",
            "Please also refer to the documentation for alternative solver options:\n",
            "    https://scikit-learn.org/stable/modules/linear_model.html#logistic-regression\n",
            "  n_iter_i = _check_optimize_result(\n"
          ]
        },
        {
          "output_type": "display_data",
          "data": {
            "text/plain": [
              "<Figure size 600x400 with 1 Axes>"
            ],
            "image/png": "[encoded data removed]"
          },
          "metadata": {}
        },
        {
          "output_type": "stream",
          "name": "stdout",
          "text": [
            "\n",
            "Classification Report:\n",
            "                    precision    recall  f1-score   support\n",
            "\n",
            "  Average customer       0.79      0.79      0.79     26603\n",
            "Excellent customer       0.70      0.73      0.71     15623\n",
            "     Good customer       0.71      0.72      0.72     29322\n",
            "    Worst customer       0.55      0.30      0.38      3452\n",
            "\n",
            "          accuracy                           0.73     75000\n",
            "         macro avg       0.68      0.63      0.65     75000\n",
            "      weighted avg       0.73      0.73      0.73     75000\n",
            "\n",
            "Results:\n",
            "        Metric     Value\n",
            "0     Accuracy  0.729573\n",
            "1    Precision  0.725951\n",
            "2       Recall  0.729573\n",
            "3     F1 Score  0.725945\n",
            "4  Cohen Kappa  0.596562\n"
          ]
        }
      ],
      "source": [
        "from sklearn.linear_model import LogisticRegression\n",
        "# Build and evaluate Logistic Regression model\n",
        "logistic_regression = LogisticRegression()\n",
        "logistic_regression.fit(X_train, y_train)\n",
        "y_pred = logistic_regression.predict(X_test)\n",
        "\n",
        "# Evaluate the model\n",
        "accuracy = accuracy_score(y_test, y_pred)\n",
        "precision = precision_score(y_test, y_pred, average='weighted')\n",
        "recall = recall_score(y_test, y_pred, average='weighted')\n",
        "f1 = f1_score(y_test, y_pred, average='weighted')\n",
        "kappa = cohen_kappa_score(y_test, y_pred)\n",
        "\n",
        "# Confusion Matrix\n",
        "conf_matrix = confusion_matrix(y_test, y_pred)\n",
        "\n",
        "# Visualize Confusion Matrix\n",
        "sns.set(font_scale=1.2)\n",
        "plt.figure(figsize=(6, 4))\n",
        "sns.heatmap(conf_matrix, annot=True, fmt=\"d\", cmap=\"Blues\", linewidths=.5, cbar=False, annot_kws={\"size\": 14})\n",
        "plt.xlabel('Predicted Labels', fontsize=14)\n",
        "plt.ylabel('True Labels', fontsize=14)\n",
        "plt.title('Confusion Matrix', fontsize=16)\n",
        "plt.show()\n",
        "\n",
        "# Classification Report\n",
        "class_report = classification_report(y_test, y_pred)\n",
        "\n",
        "# Display the results\n",
        "results = pd.DataFrame({\n",
        "    'Metric': ['Accuracy', 'Precision', 'Recall', 'F1 Score', 'Cohen Kappa'],\n",
        "    'Value': [accuracy, precision, recall, f1, kappa]\n",
        "})\n",
        "\n",
        "print(\"\\nClassification Report:\")\n",
        "print(class_report)\n",
        "\n",
        "print(\"Results:\")\n",
        "print(results)"
      ]
    },
    {
      "cell_type": "code",
      "source": [
        "from sklearn.preprocessing import StandardScaler\n",
        "from sklearn.svm import SVC\n",
        "from sklearn.metrics import accuracy_score, precision_score, recall_score, f1_score, cohen_kappa_score, confusion_matrix, classification_report\n",
        "import seaborn as sns\n",
        "import matplotlib.pyplot as plt\n",
        "import pandas as pd\n",
        "\n",
        "# Assuming X_train, X_test, y_train, and y_test are already defined\n",
        "\n",
        "# Normalize or scale the features\n",
        "scaler = StandardScaler()\n",
        "X_train_scaled = scaler.fit_transform(X_train)\n",
        "X_test_scaled = scaler.transform(X_test)\n",
        "\n",
        "# Build and evaluate SVM model\n",
        "svm = SVC(class_weight='balanced')  # Consider using class weights for imbalanced datasets\n",
        "svm.fit(X_train_scaled, y_train)\n",
        "y_pred = svm.predict(X_test_scaled)\n",
        "\n",
        "# Evaluate the model\n",
        "accuracy = accuracy_score(y_test, y_pred)\n",
        "precision = precision_score(y_test, y_pred, average='weighted')\n",
        "recall = recall_score(y_test, y_pred, average='weighted')\n",
        "f1 = f1_score(y_test, y_pred, average='weighted')\n",
        "kappa = cohen_kappa_score(y_test, y_pred)\n",
        "\n",
        "# Confusion Matrix\n",
        "conf_matrix = confusion_matrix(y_test, y_pred)\n",
        "\n",
        "# Visualize Confusion Matrix\n",
        "sns.set(font_scale=1.2)\n",
        "plt.figure(figsize=(6, 4))\n",
        "sns.heatmap(conf_matrix, annot=True, fmt=\"d\", cmap=\"Blues\", linewidths=.5, cbar=False, annot_kws={\"size\": 14})\n",
        "plt.xlabel('Predicted Labels', fontsize=14)\n",
        "plt.ylabel('True Labels', fontsize=14)\n",
        "plt.title('Confusion Matrix', fontsize=16)\n",
        "plt.show()\n",
        "\n",
        "# Classification Report\n",
        "class_report = classification_report(y_test, y_pred)\n",
        "\n",
        "# Display the results\n",
        "results = pd.DataFrame({\n",
        "    'Metric': ['Accuracy', 'Precision', 'Recall', 'F1 Score', 'Cohen Kappa'],\n",
        "    'Value': [accuracy, precision, recall, f1, kappa]\n",
        "})\n",
        "\n",
        "print(\"\\nConfusion Matrix:\")\n",
        "print(conf_matrix)\n",
        "\n",
        "print(\"\\nClassification Report:\")\n",
        "print(class_report)\n",
        "\n",
        "print(\"Results:\")\n",
        "print(results)\n"
      ],
      "metadata": {
        "colab": {
          "base_uri": "https://localhost:8080/",
          "height": 876
        },
        "id": "UlnlJR8SgXmW",
        "outputId": "5dc86132-4952-4417-8098-dddef7314c29"
      },
      "execution_count": null,
      "outputs": [
        {
          "output_type": "display_data",
          "data": {
            "text/plain": [
              "<Figure size 600x400 with 1 Axes>"
            ],
            "image/png": "[encoded data removed]"
          },
          "metadata": {}
        },
        {
          "output_type": "stream",
          "name": "stdout",
          "text": [
            "\n",
            "Confusion Matrix:\n",
            "[[26603     0     0     0]\n",
            " [    0 15623     0     0]\n",
            " [    0     0 29322     0]\n",
            " [    0     0     0  3452]]\n",
            "\n",
            "Classification Report:\n",
            "                    precision    recall  f1-score   support\n",
            "\n",
            "  Average customer       1.00      1.00      1.00     26603\n",
            "Excellent customer       1.00      1.00      1.00     15623\n",
            "     Good customer       1.00      1.00      1.00     29322\n",
            "    Worst customer       1.00      1.00      1.00      3452\n",
            "\n",
            "          accuracy                           1.00     75000\n",
            "         macro avg       1.00      1.00      1.00     75000\n",
            "      weighted avg       1.00      1.00      1.00     75000\n",
            "\n",
            "Results:\n",
            "        Metric  Value\n",
            "0     Accuracy    1.0\n",
            "1    Precision    1.0\n",
            "2       Recall    1.0\n",
            "3     F1 Score    1.0\n",
            "4  Cohen Kappa    1.0\n"
          ]
        }
      ]
    },
    {
      "cell_type": "code",
      "source": [],
      "metadata": {
        "id": "OU3oY6qFl62t"
      },
      "execution_count": null,
      "outputs": []
    }
  ],
  "metadata": {
    "colab": {
      "provenance": []
    },
    "kernelspec": {
      "display_name": "Python 3",
      "name": "python3"
    },
    "language_info": {
      "name": "python"
    }
  },
  "nbformat": 4,
  "nbformat_minor": 0
}